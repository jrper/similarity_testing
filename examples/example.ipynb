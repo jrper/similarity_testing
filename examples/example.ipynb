{
 "cells": [
  {
   "cell_type": "code",
   "execution_count": 1,
   "metadata": {},
   "outputs": [],
   "source": [
    "import sys\n",
    "sys.path.append('./..')\n",
    "\n",
    "import matcher"
   ]
  },
  {
   "cell_type": "code",
   "execution_count": 2,
   "metadata": {},
   "outputs": [],
   "source": [
    "import pandas as pd\n",
    "\n",
    "df1 = pd.DataFrame([], columns=['x', 'y', 'w', 'h'])\n",
    "\n",
    "df1.loc[0] = [0.3, 0.3, 0.2, 0.2]\n",
    "df1.loc[1] = [0.3, 0.7, 0.1, 0.1]\n",
    "df1.loc[2] = [0.7, 0.2, 0.2, 0.2]\n",
    "df1.loc[3] = [0.4, 0.4, 0.1, 0.1]\n",
    "\n",
    "df2 = pd.DataFrame([], columns=['x', 'y', 'w', 'h'])\n",
    "\n",
    "df2.loc[0] = [0.3, 0.3, 0.2, 0.2]\n",
    "df2.loc[1] = [0.35, 0.75, 0.1, 0.1]\n",
    "df2.loc[2] = [0.3, 0.24, 0.2, 0.2]\n",
    "df2.loc[3] = [0.41, 0.41, 0.1, 0.15]"
   ]
  },
  {
   "cell_type": "code",
   "execution_count": 3,
   "metadata": {},
   "outputs": [
    {
     "name": "stdout",
     "output_type": "stream",
     "text": [
      "\tPrecision (IOU=0.5) :\t: 0.5000\n",
      "\tRecall (IOU=0.5) :\t: 0.5000\n",
      "\tF1 (IOU=0.5) :\t: 0.5000\n",
      "\tTrue Positives: 2\n",
      "\tFalse Positives: 2\n",
      "\tFalse Negatives: 2\n"
     ]
    },
    {
     "data": {
      "text/plain": [
       "(array([1, 0, 0, 1], dtype=int32), [0, 3], [0, 3])"
      ]
     },
     "execution_count": 3,
     "metadata": {},
     "output_type": "execute_result"
    }
   ],
   "source": [
    "similarity_vector, df1_index, df2_index = matcher.calculate_box_match(df1, df2, sparse=True)\n",
    "\n",
    "matcher.summarize(similarity_vector, df1, df2)\n",
    "\n",
    "similarity_vector, df1_index, df2_index"
   ]
  },
  {
   "cell_type": "code",
   "execution_count": 4,
   "metadata": {},
   "outputs": [
    {
     "data": {
      "image/png": "[encoded data removed]",
      "text/plain": [
       "<Figure size 640x480 with 1 Axes>"
      ]
     },
     "metadata": {},
     "output_type": "display_data"
    }
   ],
   "source": [
    "matcher.plot_comparison(df1, df2, df1_index, df2_index)"
   ]
  },
  {
   "cell_type": "code",
   "execution_count": null,
   "metadata": {},
   "outputs": [],
   "source": []
  }
 ],
 "metadata": {
  "kernelspec": {
   "display_name": "npp",
   "language": "python",
   "name": "python3"
  },
  "language_info": {
   "codemirror_mode": {
    "name": "ipython",
    "version": 3
   },
   "file_extension": ".py",
   "mimetype": "text/x-python",
   "name": "python",
   "nbconvert_exporter": "python",
   "pygments_lexer": "ipython3",
   "version": "3.9.13"
  },
  "orig_nbformat": 4,
  "vscode": {
   "interpreter": {
    "hash": "90ea2e0760859284cec58032ab984adf547aedce4ff2973e460fa6c159de93e8"
   }
  }
 },
 "nbformat": 4,
 "nbformat_minor": 2
}
